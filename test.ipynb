{
 "cells": [
  {
   "cell_type": "code",
   "execution_count": 1,
   "metadata": {},
   "outputs": [],
   "source": [
    "import tensorflow as tf"
   ]
  },
  {
   "cell_type": "code",
   "execution_count": 2,
   "metadata": {},
   "outputs": [
    {
     "name": "stdout",
     "output_type": "stream",
     "text": [
      "num GPUs Available:  1\n"
     ]
    }
   ],
   "source": [
    "print(\"num GPUs Available: \", len(tf.config.experimental.list_physical_devices('GPU')))"
   ]
  },
  {
   "cell_type": "code",
   "execution_count": 3,
   "metadata": {},
   "outputs": [
    {
     "name": "stdout",
     "output_type": "stream",
     "text": [
      "GPU 0 - Nome:NVIDIA GeForce GTX 1650, Memória Total: 4096 MB\n"
     ]
    }
   ],
   "source": [
    "import subprocess\n",
    "\n",
    "comand = \"nvidia-smi --query-gpu=name,memory.total --format=csv,noheader,nounits\"\n",
    "\n",
    "output = subprocess.check_output(comand, shell=True, encoding='utf-8')\n",
    "\n",
    "lines = output.strip().split(\"\\n\")\n",
    "\n",
    "for idx, line in enumerate(lines):\n",
    "    name, memory = line.strip().split(\",\")\n",
    "    print(f\"GPU {idx} - Nome:{name}, Memória Total:{memory} MB\")"
   ]
  },
  {
   "cell_type": "code",
   "execution_count": null,
   "metadata": {},
   "outputs": [],
   "source": []
  }
 ],
 "metadata": {
  "kernelspec": {
   "display_name": "cudaEnvrioment",
   "language": "python",
   "name": "python3"
  },
  "language_info": {
   "codemirror_mode": {
    "name": "ipython",
    "version": 3
   },
   "file_extension": ".py",
   "mimetype": "text/x-python",
   "name": "python",
   "nbconvert_exporter": "python",
   "pygments_lexer": "ipython3",
   "version": "3.10.11"
  }
 },
 "nbformat": 4,
 "nbformat_minor": 2
}
