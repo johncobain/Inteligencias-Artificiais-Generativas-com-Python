{
 "cells": [
  {
   "cell_type": "markdown",
   "metadata": {
    "id": "mi-gtz5z6jZP"
   },
   "source": [
    "Pro. Fernando Amaral  -  [www.eia.ai](https://www.eia.ai)"
   ]
  },
  {
   "cell_type": "code",
   "execution_count": null,
   "metadata": {
    "colab": {
     "base_uri": "https://localhost:8080/",
     "height": 114
    },
    "executionInfo": {
     "elapsed": 414,
     "status": "ok",
     "timestamp": 1694215377916,
     "user": {
      "displayName": "Fernando Amaral",
      "userId": "13956145547499510680"
     },
     "user_tz": 180
    },
    "id": "8ZQ7Hr5OBkU9",
    "outputId": "adaffdde-360d-4c62-dcc0-c7a8a5be90bd"
   },
   "outputs": [],
   "source": [
    "import torch\n",
    "from torch import nn\n",
    "import matplotlib.pyplot as plt\n",
    "import numpy as np\n",
    "\n",
    "# Modelo Generator\n",
    "class Generator(nn.Module):\n",
    "    def __init__(self):\n",
    "        super(Generator, self).__init__()\n",
    "\n",
    "        self.init_size = img_size // 4\n",
    "        self.l1 = nn.Sequential(nn.Linear(latent_dim, 128 * self.init_size ** 2))\n",
    "\n",
    "        self.conv_blocks = nn.Sequential(\n",
    "            nn.BatchNorm2d(128),\n",
    "            nn.Upsample(scale_factor=2),\n",
    "            nn.Conv2d(128, 128, 3, stride=1, padding=1),\n",
    "            nn.BatchNorm2d(128, 0.8),\n",
    "            nn.ReLU(),\n",
    "            nn.Upsample(scale_factor=2),\n",
    "            nn.Conv2d(128, 64, 3, stride=1, padding=1),\n",
    "            nn.BatchNorm2d(64, 0.8),\n",
    "            nn.ReLU(),\n",
    "            nn.Conv2d(64, channels, 3, stride=1, padding=1),\n",
    "            nn.Tanh()\n",
    "        )\n",
    "\n",
    "    def forward(self, z):\n",
    "        out = self.l1(z)\n",
    "        out = out.view(out.shape[0], 128, self.init_size, self.init_size)\n",
    "        img = self.conv_blocks(out)\n",
    "        return img\n",
    "\n",
    "# Hiper Parâmetros\n",
    "latent_dim = 128\n",
    "channels = 1  # FashionMNIST é em escala de cinza\n",
    "img_size = 28\n",
    "\n",
    "# Inicializa\n",
    "generator = Generator()\n",
    "\n",
    "# Carregua\n",
    "generator.load_state_dict(torch.load(\"fashion_generator.pth\"))\n",
    "generator.eval()\n",
    "\n",
    "# Vetor latente aleatório, 1 é número de imagens\n",
    "z = torch.FloatTensor(1, latent_dim).uniform_(-1.0, 1.0)\n",
    "\n",
    "with torch.no_grad():\n",
    "    gen_img = generator(z)\n",
    "\n",
    "# Print\n",
    "gen_img = gen_img.cpu().detach().numpy()\n",
    "gen_img = 0.5 * gen_img + 0.5\n",
    "gen_img = np.squeeze(gen_img)\n",
    "plt.figure(figsize=(1,1))\n",
    "\n",
    "plt.imshow(gen_img, cmap='gray')\n",
    "plt.axis('off')\n",
    "\n",
    "plt.show()"
   ]
  },
  {
   "cell_type": "code",
   "execution_count": null,
   "metadata": {
    "id": "00Z2SWPUCjh5"
   },
   "outputs": [],
   "source": []
  }
 ],
 "metadata": {
  "accelerator": "GPU",
  "colab": {
   "authorship_tag": "ABX9TyNrvuKFiCa6q4ztQWuwf2nZ",
   "gpuType": "T4",
   "provenance": []
  },
  "kernelspec": {
   "display_name": "Python 3 (ipykernel)",
   "language": "python",
   "name": "python3"
  },
  "language_info": {
   "codemirror_mode": {
    "name": "ipython",
    "version": 3
   },
   "file_extension": ".py",
   "mimetype": "text/x-python",
   "name": "python",
   "nbconvert_exporter": "python",
   "pygments_lexer": "ipython3",
   "version": "3.12.4"
  }
 },
 "nbformat": 4,
 "nbformat_minor": 4
}
