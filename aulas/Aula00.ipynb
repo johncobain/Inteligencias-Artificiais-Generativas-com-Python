{
  "nbformat": 4,
  "nbformat_minor": 0,
  "metadata": {
    "colab": {
      "provenance": [],
      "mount_file_id": "1R8Sh-kaOLRps9tGDrngVQHkruCN7illV",
      "authorship_tag": "ABX9TyPNMiFl5v1fMhDfhndj0SHU",
      "include_colab_link": true
    },
    "kernelspec": {
      "name": "python3",
      "display_name": "Python 3"
    },
    "language_info": {
      "name": "python"
    }
  },
  "cells": [
    {
      "cell_type": "markdown",
      "metadata": {
        "id": "view-in-github",
        "colab_type": "text"
      },
      "source": [
        "<a href=\"https://colab.research.google.com/github/johncobain/Inteligencias-Artificiais-Generativas-com-Python/blob/main/aulas/Aula00.ipynb\" target=\"_parent\"><img src=\"https://colab.research.google.com/assets/colab-badge.svg\" alt=\"Open In Colab\"/></a>"
      ]
    },
    {
      "cell_type": "markdown",
      "source": [
        "# Projeto ABC"
      ],
      "metadata": {
        "id": "iXwLoF-RPJGA"
      }
    },
    {
      "cell_type": "markdown",
      "source": [
        "## Importando Módulos"
      ],
      "metadata": {
        "id": "3dcZTSZpPO3M"
      }
    },
    {
      "cell_type": "code",
      "execution_count": null,
      "metadata": {
        "id": "WzGcRBIpOdBb"
      },
      "outputs": [],
      "source": [
        "import pandas as pd"
      ]
    },
    {
      "cell_type": "code",
      "source": [
        "import numpy as np"
      ],
      "metadata": {
        "id": "i6WTXBftOyBl"
      },
      "execution_count": null,
      "outputs": []
    },
    {
      "cell_type": "code",
      "source": [
        "print(\"Hello World\")"
      ],
      "metadata": {
        "id": "A94y6NpEO1Te"
      },
      "execution_count": null,
      "outputs": []
    },
    {
      "cell_type": "markdown",
      "source": [
        "## Importar Dados"
      ],
      "metadata": {
        "id": "4Q4dxEqvPV3p"
      }
    },
    {
      "cell_type": "code",
      "source": [
        "#rotina de importação\n"
      ],
      "metadata": {
        "id": "Ia7m9sKmPFqR"
      },
      "execution_count": null,
      "outputs": []
    },
    {
      "cell_type": "code",
      "source": [],
      "metadata": {
        "id": "Bpo60nREPebD"
      },
      "execution_count": null,
      "outputs": []
    },
    {
      "cell_type": "markdown",
      "source": [
        "### Tratar Dados"
      ],
      "metadata": {
        "id": "x_-haRWbPf4d"
      }
    },
    {
      "cell_type": "code",
      "source": [],
      "metadata": {
        "id": "q7gxTrc2PifR"
      },
      "execution_count": null,
      "outputs": []
    }
  ]
}